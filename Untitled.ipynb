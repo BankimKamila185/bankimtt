{
 "cells": [
  {
   "cell_type": "code",
   "execution_count": null,
   "id": "879935d0-8f8b-4265-9425-33028dd60717",
   "metadata": {},
   "outputs": [],
   "source": []
  }
 ],
 "metadata": {
  "kernelspec": {
   "display_name": "",
   "name": ""
  },
  "language_info": {
   "name": ""
  }
 },
 "nbformat": 4,
 "nbformat_minor": 5
}
